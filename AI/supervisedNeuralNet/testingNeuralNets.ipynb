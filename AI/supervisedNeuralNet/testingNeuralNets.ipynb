{
 "cells": [
  {
   "cell_type": "code",
   "execution_count": 1,
   "id": "according-daniel",
   "metadata": {},
   "outputs": [],
   "source": [
    "import matplotlib.pyplot as plt\n",
    "import numpy as np\n",
    "import os\n",
    "import PIL\n",
    "import tensorflow as tf\n",
    "import pathlib\n",
    "\n",
    "from tensorflow import keras\n",
    "from tensorflow.keras import layers\n",
    "from tensorflow.keras.models import Sequential"
   ]
  },
  {
   "cell_type": "code",
   "execution_count": 2,
   "id": "nervous-punch",
   "metadata": {},
   "outputs": [],
   "source": [
    "data_dir = pathlib.Path(\"E:\\GolfData\\Frames\")"
   ]
  },
  {
   "cell_type": "code",
   "execution_count": 3,
   "id": "acting-diana",
   "metadata": {},
   "outputs": [
    {
     "name": "stdout",
     "output_type": "stream",
     "text": [
      "5719\n"
     ]
    }
   ],
   "source": [
    "image_count = len(list(data_dir.glob('*/*.png')))\n",
    "print(image_count)"
   ]
  },
  {
   "cell_type": "code",
   "execution_count": 4,
   "id": "confidential-particular",
   "metadata": {},
   "outputs": [],
   "source": [
    "# loader parameters\n",
    "\n",
    "batch_size = 32\n",
    "img_height = 360\n",
    "img_width = 640"
   ]
  },
  {
   "cell_type": "code",
   "execution_count": 5,
   "id": "eight-skiing",
   "metadata": {},
   "outputs": [
    {
     "name": "stdout",
     "output_type": "stream",
     "text": [
      "Found 5719 files belonging to 2 classes.\n",
      "Using 4576 files for training.\n"
     ]
    }
   ],
   "source": [
    "train_ds = tf.keras.preprocessing.image_dataset_from_directory(\n",
    "  data_dir,\n",
    "  validation_split=0.2,\n",
    "  subset=\"training\",\n",
    "  seed=123,\n",
    "  image_size=(img_height, img_width),\n",
    "  batch_size=batch_size)\n"
   ]
  },
  {
   "cell_type": "code",
   "execution_count": 6,
   "id": "direct-inquiry",
   "metadata": {},
   "outputs": [
    {
     "name": "stdout",
     "output_type": "stream",
     "text": [
      "Found 5719 files belonging to 2 classes.\n",
      "Using 1143 files for validation.\n"
     ]
    }
   ],
   "source": [
    "val_ds = tf.keras.preprocessing.image_dataset_from_directory(\n",
    "  data_dir,\n",
    "  validation_split=0.2,\n",
    "  subset=\"validation\",\n",
    "  seed=123,\n",
    "  image_size=(img_height, img_width),\n",
    "  batch_size=batch_size)\n"
   ]
  },
  {
   "cell_type": "code",
   "execution_count": 7,
   "id": "upper-thirty",
   "metadata": {},
   "outputs": [
    {
     "name": "stdout",
     "output_type": "stream",
     "text": [
      "['Negatives', 'Positives']\n"
     ]
    }
   ],
   "source": [
    "class_names = train_ds.class_names\n",
    "print(class_names)"
   ]
  },
  {
   "cell_type": "code",
   "execution_count": 8,
   "id": "desirable-start",
   "metadata": {},
   "outputs": [
    {
     "name": "stdout",
     "output_type": "stream",
     "text": [
      "(32, 360, 640, 3)\n",
      "(32,)\n"
     ]
    }
   ],
   "source": [
    "for image_batch, labels_batch in train_ds:\n",
    "    print(image_batch.shape)\n",
    "    print(labels_batch.shape)\n",
    "    break\n"
   ]
  },
  {
   "cell_type": "code",
   "execution_count": 9,
   "id": "bright-background",
   "metadata": {},
   "outputs": [],
   "source": [
    "AUTOTUNE = tf.data.AUTOTUNE\n",
    "\n",
    "train_ds = train_ds.cache().shuffle(1000).prefetch(buffer_size=AUTOTUNE)\n",
    "val_ds = val_ds.cache().prefetch(buffer_size=AUTOTUNE)\n"
   ]
  },
  {
   "cell_type": "code",
   "execution_count": 10,
   "id": "designed-uncle",
   "metadata": {},
   "outputs": [],
   "source": [
    "num_classes = 2\n",
    "\n",
    "model = Sequential([\n",
    "\n",
    "    # preprocessing and feature augmentation\n",
    "  layers.experimental.preprocessing.Rescaling(1./255, input_shape=(img_height, img_width, 3)),\n",
    "  layers.experimental.preprocessing.RandomFlip(\"horizontal\", input_shape=(img_height, img_width, 3)),\n",
    "  layers.experimental.preprocessing.RandomRotation(0.1),\n",
    "  layers.experimental.preprocessing.RandomZoom(0.1),\n",
    "\n",
    "  layers.Conv2D(16, 3, padding='same', activation='relu'),\n",
    "  layers.MaxPooling2D(),\n",
    "  layers.Conv2D(32, 3, padding='same', activation='relu'),\n",
    "  layers.MaxPooling2D(),\n",
    "  layers.Conv2D(64, 3, padding='same', activation='relu'),\n",
    "  layers.MaxPooling2D(),\n",
    "  layers.Dropout(0.2),\n",
    "  layers.Flatten(),\n",
    "  layers.Dense(64, activation='relu'),\n",
    "  layers.Dense(num_classes)\n",
    "])\n"
   ]
  },
  {
   "cell_type": "code",
   "execution_count": 11,
   "id": "sunrise-wealth",
   "metadata": {},
   "outputs": [],
   "source": [
    "model.compile(optimizer='adam', loss=tf.keras.losses.SparseCategoricalCrossentropy(from_logits=True), metrics=['accuracy'])\n"
   ]
  },
  {
   "cell_type": "code",
   "execution_count": 12,
   "id": "ancient-expression",
   "metadata": {},
   "outputs": [
    {
     "name": "stdout",
     "output_type": "stream",
     "text": [
      "Model: \"sequential\"\n",
      "_________________________________________________________________\n",
      "Layer (type)                 Output Shape              Param #   \n",
      "=================================================================\n",
      "rescaling (Rescaling)        (None, 360, 640, 3)       0         \n",
      "_________________________________________________________________\n",
      "random_flip (RandomFlip)     (None, 360, 640, 3)       0         \n",
      "_________________________________________________________________\n",
      "random_rotation (RandomRotat (None, 360, 640, 3)       0         \n",
      "_________________________________________________________________\n",
      "random_zoom (RandomZoom)     (None, 360, 640, 3)       0         \n",
      "_________________________________________________________________\n",
      "conv2d (Conv2D)              (None, 360, 640, 16)      448       \n",
      "_________________________________________________________________\n",
      "max_pooling2d (MaxPooling2D) (None, 180, 320, 16)      0         \n",
      "_________________________________________________________________\n",
      "conv2d_1 (Conv2D)            (None, 180, 320, 32)      4640      \n",
      "_________________________________________________________________\n",
      "max_pooling2d_1 (MaxPooling2 (None, 90, 160, 32)       0         \n",
      "_________________________________________________________________\n",
      "conv2d_2 (Conv2D)            (None, 90, 160, 64)       18496     \n",
      "_________________________________________________________________\n",
      "max_pooling2d_2 (MaxPooling2 (None, 45, 80, 64)        0         \n",
      "_________________________________________________________________\n",
      "dropout (Dropout)            (None, 45, 80, 64)        0         \n",
      "_________________________________________________________________\n",
      "flatten (Flatten)            (None, 230400)            0         \n",
      "_________________________________________________________________\n",
      "dense (Dense)                (None, 64)                14745664  \n",
      "_________________________________________________________________\n",
      "dense_1 (Dense)              (None, 2)                 130       \n",
      "=================================================================\n",
      "Total params: 14,769,378\n",
      "Trainable params: 14,769,378\n",
      "Non-trainable params: 0\n",
      "_________________________________________________________________\n"
     ]
    }
   ],
   "source": [
    "model.summary()\n"
   ]
  },
  {
   "cell_type": "code",
   "execution_count": 14,
   "id": "incident-rabbit",
   "metadata": {},
   "outputs": [
    {
     "name": "stdout",
     "output_type": "stream",
     "text": [
      "Epoch 1/10\n",
      "143/143 [==============================] - 84s 457ms/step - loss: 0.2681 - accuracy: 0.9178 - val_loss: 0.0707 - val_accuracy: 0.9808\n",
      "Epoch 2/10\n",
      "143/143 [==============================] - 73s 510ms/step - loss: 0.0520 - accuracy: 0.9867 - val_loss: 0.0368 - val_accuracy: 0.9913\n",
      "Epoch 3/10\n",
      "143/143 [==============================] - 71s 495ms/step - loss: 0.0362 - accuracy: 0.9915 - val_loss: 0.0307 - val_accuracy: 0.9939\n",
      "Epoch 4/10\n",
      "143/143 [==============================] - 71s 496ms/step - loss: 0.0307 - accuracy: 0.9926 - val_loss: 0.0278 - val_accuracy: 0.9948\n",
      "Epoch 5/10\n",
      "143/143 [==============================] - 85s 594ms/step - loss: 0.0273 - accuracy: 0.9932 - val_loss: 0.0442 - val_accuracy: 0.9860\n",
      "Epoch 6/10\n",
      "143/143 [==============================] - 67s 470ms/step - loss: 0.0153 - accuracy: 0.9967 - val_loss: 0.0483 - val_accuracy: 0.9869\n",
      "Epoch 7/10\n",
      "143/143 [==============================] - 62s 435ms/step - loss: 0.0246 - accuracy: 0.9937 - val_loss: 0.0192 - val_accuracy: 0.9965\n",
      "Epoch 8/10\n",
      "143/143 [==============================] - 79s 554ms/step - loss: 0.0493 - accuracy: 0.9867 - val_loss: 0.0271 - val_accuracy: 0.9939\n",
      "Epoch 9/10\n",
      "143/143 [==============================] - 80s 559ms/step - loss: 0.0342 - accuracy: 0.9906 - val_loss: 0.0255 - val_accuracy: 0.9965\n",
      "Epoch 10/10\n",
      "143/143 [==============================] - 78s 545ms/step - loss: 0.0599 - accuracy: 0.9810 - val_loss: 0.0227 - val_accuracy: 0.9965\n"
     ]
    }
   ],
   "source": [
    "epochs=10\n",
    "history = model.fit(train_ds, validation_data=val_ds, epochs=epochs)"
   ]
  },
  {
   "cell_type": "code",
   "execution_count": 15,
   "id": "wireless-wellington",
   "metadata": {},
   "outputs": [
    {
     "data": {
      "image/png": "[encoded data removed]",
      "text/plain": [
       "<Figure size 576x576 with 2 Axes>"
      ]
     },
     "metadata": {
      "needs_background": "light"
     },
     "output_type": "display_data"
    }
   ],
   "source": [
    "acc = history.history['accuracy']\n",
    "val_acc = history.history['val_accuracy']\n",
    "\n",
    "loss = history.history['loss']\n",
    "val_loss = history.history['val_loss']\n",
    "\n",
    "epochs_range = range(epochs)\n",
    "\n",
    "plt.figure(figsize=(8, 8))\n",
    "plt.subplot(1, 2, 1)\n",
    "plt.plot(epochs_range, acc, label='Training Accuracy')\n",
    "plt.plot(epochs_range, val_acc, label='Validation Accuracy')\n",
    "plt.legend(loc='lower right')\n",
    "plt.title('Training and Validation Accuracy')\n",
    "\n",
    "plt.subplot(1, 2, 2)\n",
    "plt.plot(epochs_range, loss, label='Training Loss')\n",
    "plt.plot(epochs_range, val_loss, label='Validation Loss')\n",
    "plt.legend(loc='upper right')\n",
    "plt.title('Training and Validation Loss')\n",
    "plt.show()\n"
   ]
  },
  {
   "cell_type": "code",
   "execution_count": 17,
   "id": "jewish-grenada",
   "metadata": {},
   "outputs": [
    {
     "name": "stdout",
     "output_type": "stream",
     "text": [
      "This image most likely belongs to Positives with a 99.82 percent confidence.\n",
      "This image most likely belongs to Negatives with a 100.00 percent confidence.\n"
     ]
    }
   ],
   "source": [
    "# prediction\n",
    "\n",
    "# positieve predictie\n",
    "image_path = \"E:\\GolfData\\Frames\\Positives\\ZDOgtiAmT40_3104.png\"\n",
    "img = keras.preprocessing.image.load_img(image_path, target_size=(img_height, img_width))\n",
    "img_array = keras.preprocessing.image.img_to_array(img)\n",
    "img_array = tf.expand_dims(img_array, 0) # Create a batch\n",
    "\n",
    "predictions = model.predict(img_array)\n",
    "score = tf.nn.softmax(predictions[0])\n",
    "\n",
    "print(\"This image most likely belongs to {} with a {:.2f} percent confidence.\".format(class_names[np.argmax(score)], 100 * np.max(score)))\n",
    "\n",
    "# negatieve predictie\n",
    "image_path = \"E:\\GolfData\\Frames\\\\Negatives\\\\AAAAFishing-Hobby-And-A-Passion.png\"\n",
    "img = keras.preprocessing.image.load_img(image_path, target_size=(img_height, img_width))\n",
    "img_array = keras.preprocessing.image.img_to_array(img)\n",
    "img_array = tf.expand_dims(img_array, 0) # Create a batch\n",
    "\n",
    "predictions = model.predict(img_array)\n",
    "score = tf.nn.softmax(predictions[0])\n",
    "\n",
    "print(\"This image most likely belongs to {} with a {:.2f} percent confidence.\".format(class_names[np.argmax(score)], 100 * np.max(score)))\n"
   ]
  },
  {
   "cell_type": "code",
   "execution_count": 21,
   "id": "controlled-shelf",
   "metadata": {},
   "outputs": [
    {
     "name": "stdout",
     "output_type": "stream",
     "text": [
      "INFO:tensorflow:Assets written to: ./supervisedNeuralNet/models/model\\assets\n"
     ]
    }
   ],
   "source": [
    "# save model\n",
    "model.save(\"./supervisedNeuralNet/models/model\")\n"
   ]
  },
  {
   "cell_type": "code",
   "execution_count": null,
   "id": "closing-recall",
   "metadata": {},
   "outputs": [],
   "source": []
  }
 ],
 "metadata": {
  "kernelspec": {
   "display_name": "Python 3",
   "language": "python",
   "name": "python3"
  },
  "language_info": {
   "codemirror_mode": {
    "name": "ipython",
    "version": 3
   },
   "file_extension": ".py",
   "mimetype": "text/x-python",
   "name": "python",
   "nbconvert_exporter": "python",
   "pygments_lexer": "ipython3",
   "version": "3.7.7"
  }
 },
 "nbformat": 4,
 "nbformat_minor": 5
}
